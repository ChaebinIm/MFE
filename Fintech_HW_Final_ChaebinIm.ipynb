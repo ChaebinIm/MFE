{
 "cells": [
  {
   "cell_type": "code",
   "execution_count": 2,
   "metadata": {},
   "outputs": [],
   "source": [
    "import numpy as np\n",
    "from IPython.core.interactiveshell import InteractiveShell\n",
    "InteractiveShell.ast_node_interactivity = \"all\" # 한 실행칸에 프린트 여러개 해도 다 출력시키도록 하는 코드."
   ]
  },
  {
   "cell_type": "code",
   "execution_count": 9,
   "metadata": {},
   "outputs": [],
   "source": [
    "def btw_not(n):\n",
    "    return 7-n"
   ]
  },
  {
   "cell_type": "code",
   "execution_count": 13,
   "metadata": {},
   "outputs": [
    {
     "name": "stdout",
     "output_type": "stream",
     "text": [
      "P[L = 111] = 0.8516\n",
      "All of the number of the event is 29964629751965\n"
     ]
    }
   ],
   "source": [
    "cnt = 0\n",
    "res = 0\n",
    "while(cnt < 1000000):\n",
    "    n = np.random.randint(0, 8, 15)\n",
    "    L1 = (n[0]&btw_not(n[10])&n[2]) | (btw_not(n[4])&n[3]) | (btw_not(n[0])&n[2]&n[3]) | (n[9]&btw_not(n[2])&n[13])\n",
    "    L2 = (btw_not(n[3])&n[6]&n[1]) | (n[12]&btw_not(n[3])) | (n[1]&btw_not(n[4])&n[3]) | (n[0]&n[5]&btw_not(n[2]))\n",
    "    L3 = (n[1]&btw_not(n[14])&btw_not(n[13])) | (n[14]&n[11]) | (n[4]&btw_not(n[0])&btw_not(n[2])) | (n[4]&n[2]&n[7])\n",
    "    L4 = (n[8]&n[0]&n[11]) | (btw_not(n[4])&n[0]) | (n[2]&n[5]&btw_not(n[8])) | (btw_not(n[10])&n[12]&btw_not(n[14]))\n",
    "    L = L1 | L2 | L3 | L4\n",
    "    if(L == 7):\n",
    "        res = res + 1\n",
    "    cnt = cnt + 1\n",
    "\n",
    "prob = res/cnt\n",
    "\n",
    "print('P[L = 111] = %.4f' %(prob))\n",
    "print('All of the number of the event is %d' %(round((2**45) * prob)))"
   ]
  },
  {
   "cell_type": "code",
   "execution_count": null,
   "metadata": {},
   "outputs": [],
   "source": []
  }
 ],
 "metadata": {
  "kernelspec": {
   "display_name": "Python 3",
   "language": "python",
   "name": "python3"
  },
  "language_info": {
   "codemirror_mode": {
    "name": "ipython",
    "version": 3
   },
   "file_extension": ".py",
   "mimetype": "text/x-python",
   "name": "python",
   "nbconvert_exporter": "python",
   "pygments_lexer": "ipython3",
   "version": "3.6.8"
  }
 },
 "nbformat": 4,
 "nbformat_minor": 2
}
