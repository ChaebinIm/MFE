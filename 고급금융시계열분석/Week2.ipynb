{
 "cells": [
  {
   "cell_type": "code",
   "execution_count": 1,
   "metadata": {},
   "outputs": [],
   "source": [
    "import numpy as np"
   ]
  },
  {
   "cell_type": "code",
   "execution_count": 23,
   "metadata": {},
   "outputs": [],
   "source": [
    "r = 0.05\n",
    "sigma = 0.25\n",
    "dt = 1/500\n",
    "T = 4\n",
    "S0 = 100\n",
    "\n",
    "time = np.arange(0, T, dt)\n",
    "\n",
    "numberOfSamplePath = 100\n",
    "BinomialRandomDraws = -1+2*( np.random.rand(int(T/dt), numberOfSamplePath) > 0.5)"
   ]
  },
  {
   "cell_type": "code",
   "execution_count": 22,
   "metadata": {},
   "outputs": [],
   "source": [
    "dW = np.sqrt(dt) * BinomialRandomDraws\n",
    "dlogS = (r-0.5*sigma**2)*dt + sigma*dW\n",
    "\n",
    "tempMatrix =np.array((log(S0) * npones(, numberOfSamplePath)))"
   ]
  },
  {
   "cell_type": "code",
   "execution_count": null,
   "metadata": {},
   "outputs": [],
   "source": []
  }
 ],
 "metadata": {
  "kernelspec": {
   "display_name": "Python 3",
   "language": "python",
   "name": "python3"
  },
  "language_info": {
   "codemirror_mode": {
    "name": "ipython",
    "version": 3
   },
   "file_extension": ".py",
   "mimetype": "text/x-python",
   "name": "python",
   "nbconvert_exporter": "python",
   "pygments_lexer": "ipython3",
   "version": "3.6.8"
  }
 },
 "nbformat": 4,
 "nbformat_minor": 2
}
