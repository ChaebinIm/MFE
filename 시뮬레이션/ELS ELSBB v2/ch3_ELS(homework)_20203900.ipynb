{
 "cells": [
  {
   "cell_type": "code",
   "execution_count": 57,
   "metadata": {},
   "outputs": [],
   "source": [
    "import numpy as np\n",
    "from datetime import datetime"
   ]
  },
  {
   "cell_type": "markdown",
   "metadata": {},
   "source": [
    "### 8p 수식 사용 - random walk"
   ]
  },
  {
   "cell_type": "code",
   "execution_count": 52,
   "metadata": {},
   "outputs": [],
   "source": [
    "r = 0.03\n",
    "q1 = 0\n",
    "q2 = 0\n",
    "sigma1 = 0.3\n",
    "sigma2 = 0.2\n",
    "rho = 0.4\n",
    "t = 1/8\n",
    "\n",
    "\n",
    "z1 = np.random.randn(8)\n",
    "z2 = np.random.randn(8)\n",
    "s1 = np.zeros(8+1)\n",
    "s2 = np.zeros(8+1)\n",
    "s1[0] = 100\n",
    "s2[0] = 100\n",
    "\n",
    "for i in range(8):\n",
    "    s1[i+1] = s1[i]*np.exp((r - q1 - sigma1**2 / 2)*t + sigma1*np.sqrt(t)*z1[i])\n",
    "    s2[i+1] = s2[i]*np.exp((r - q2 - sigma2**2 / 2)*t + sigma2*np.sqrt(t)*(rho*z1[i]+np.sqrt(1-rho**2)*z2[i]))"
   ]
  },
  {
   "cell_type": "code",
   "execution_count": null,
   "metadata": {},
   "outputs": [],
   "source": []
  },
  {
   "cell_type": "code",
   "execution_count": null,
   "metadata": {},
   "outputs": [],
   "source": []
  },
  {
   "cell_type": "code",
   "execution_count": null,
   "metadata": {},
   "outputs": [],
   "source": []
  },
  {
   "cell_type": "code",
   "execution_count": 54,
   "metadata": {},
   "outputs": [],
   "source": [
    "# 해당 ELS는 2년 만기에 6개월 주기로 조기 상환이 가능\n",
    "## 한 주기(6개월)을 n등분\n",
    "def ELS(r,q1,q2,sigma1,sigma2,rho,M,n):\n",
    "    \n",
    "    prob = np.zeros(6)\n",
    "    values = np.zeros(M)\n",
    "    for i in range(M):\n",
    "        \n",
    "        z1 = np.random.randn(4*n)\n",
    "        z2 = np.random.randn(4*n)\n",
    "        s1 = np.zeros(4*n+1)\n",
    "        s2 = np.zeros(4*n+1)\n",
    "        s1[0] = 100\n",
    "        s2[0] = 100\n",
    "        \n",
    "        t = 1/(2*n) # why?\n",
    "        \n",
    "        for j in range(4*n):\n",
    "            s1[j+1] = s1[j]*np.exp((r-q1-sigma1**2/2)*t + sigma1*np.sqrt(t)*z1[j])\n",
    "            s2[j+1] = s2[j]*np.exp((r-q1-sigma2**2/2)*t + sigma2*np.sqrt(t)*(rho*z1[j]+np.sqrt(1-rho**2)*z2[j]))\n",
    "            \n",
    "        if (s1[n]>=85) & (s2[n]>=85):\n",
    "            val = 100 * (1+0.0625)\n",
    "            prob[0]+=1\n",
    "            values[i] = val * np.exp(-r * 0.5)\n",
    "\n",
    "        elif (s1[2*n]>=80) & (s2[2*n]>=80):\n",
    "            val = 100 * (1+0.0625*2)\n",
    "            prob[1]+=1\n",
    "            values[i] = val * np.exp(-r)\n",
    "\n",
    "        elif (s1[3*n]>=75) & (s2[3*n]>=75):\n",
    "            val = 100 * (1+0.0625*3)\n",
    "            prob[2]+=1\n",
    "            values[i] = val * np.exp(-r * 1.5)\n",
    "\n",
    "        elif (s1[4*n]>=70) & (s2[4*n]>=70):\n",
    "            val = 100 * (1+0.0625*4)\n",
    "            prob[3]+=1\n",
    "            values[i] = val * np.exp(-r * 2)\n",
    "\n",
    "        elif sum(s1<60)+sum(s2<60)==0:\n",
    "            val = 100\n",
    "            prob[4]+=1\n",
    "            values[i] = val * np.exp(-r * 2)\n",
    "\n",
    "        else:\n",
    "            val = min(s1[4*n], s2[4*n])\n",
    "            prob[5]+=1\n",
    "            values[i] = val * np.exp(-r * 2)\n",
    "    \n",
    "    value = values.mean()\n",
    "    err = values.std() / sqrt(M)\n",
    "    prob = prob / M\n",
    "        \n",
    "    return value, err, prob"
   ]
  },
  {
   "cell_type": "code",
   "execution_count": 55,
   "metadata": {},
   "outputs": [],
   "source": [
    "r=0.03\n",
    "q1=0.0\n",
    "q2=0.0\n",
    "sigma1=0.3\n",
    "sigma2=0.4\n",
    "rho=0.2\n",
    "M=10000\n",
    "n=8"
   ]
  },
  {
   "cell_type": "code",
   "execution_count": 61,
   "metadata": {
    "scrolled": true
   },
   "outputs": [
    {
     "name": "stdout",
     "output_type": "stream",
     "text": [
      "value = 93.51, err = 0.26\n",
      "prob[1] = 55.03%\n",
      "prob[2] = 12.70%\n",
      "prob[3] =  6.42%\n",
      "prob[4] =  4.15%\n",
      "prob[5] =  0.46%\n",
      "prob[6] = 21.24%\n",
      "Total sum of prob = 100%\n",
      "Total computing time = 3.239897 seconds\n"
     ]
    }
   ],
   "source": [
    "t1=datetime.now()\n",
    "value,err,prob=ELS(r,q1,q2,sigma1,sigma2,rho,M,n)\n",
    "t2=datetime.now()\n",
    "print('value = {:.2f}, err = {:.2f}'.format(value,err))\n",
    "for i in range(6):\n",
    "    print('prob[{:d}] = {:{width}.2%}'.format(i+1,prob[i],width=6))\n",
    "print('Total sum of prob = {:.0%}'.format(sum(prob)))\n",
    "print('Total computing time = {:f} seconds'.format((t2-t1).total_seconds()))"
   ]
  },
  {
   "cell_type": "code",
   "execution_count": 2,
   "metadata": {},
   "outputs": [
    {
     "name": "stdout",
     "output_type": "stream",
     "text": [
      "value = 92.98, err = 0.27\n",
      "prob[1] = 54.99%\n",
      "prob[2] = 12.17%\n",
      "prob[3] =  6.41%\n",
      "prob[4] =  4.06%\n",
      "prob[5] =  0.43%\n",
      "prob[6] = 21.94%\n",
      "Total sum of prob = 100%\n",
      "Total computing time = 3.191183 seconds\n"
     ]
    }
   ],
   "source": [
    "import numpy as np\n",
    "def ELS(r,q1,q2,sigma1,sigma2,rho,M,n):\n",
    "\n",
    "    return value,err,prob\n",
    "from datetime import datetime\n",
    "r=0.03\n",
    "q1=0.0\n",
    "q2=0.0\n",
    "sigma1=0.3\n",
    "sigma2=0.4\n",
    "rho=0.2\n",
    "M=10000\n",
    "n=8\n",
    "t1=datetime.now()\n",
    "value,err,prob=ELS(r,q1,q2,sigma1,sigma2,rho,M,n)\n",
    "t2=datetime.now()\n",
    "print('value = {:.2f}, err = {:.2f}'.format(value,err))\n",
    "for i in range(6):\n",
    "    print('prob[{:d}] = {:{width}.2%}'.format(i+1,prob[i],width=6))\n",
    "print('Total sum of prob = {:.0%}'.format(sum(prob)))\n",
    "print('Total computing time = {:f} seconds'.format((t2-t1).total_seconds()))"
   ]
  },
  {
   "cell_type": "code",
   "execution_count": null,
   "metadata": {},
   "outputs": [],
   "source": []
  }
 ],
 "metadata": {
  "kernelspec": {
   "display_name": "Python 3",
   "language": "python",
   "name": "python3"
  },
  "language_info": {
   "codemirror_mode": {
    "name": "ipython",
    "version": 3
   },
   "file_extension": ".py",
   "mimetype": "text/x-python",
   "name": "python",
   "nbconvert_exporter": "python",
   "pygments_lexer": "ipython3",
   "version": "3.6.8"
  }
 },
 "nbformat": 4,
 "nbformat_minor": 2
}
