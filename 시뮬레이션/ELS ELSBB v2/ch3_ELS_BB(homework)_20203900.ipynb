{
 "cells": [
  {
   "cell_type": "code",
   "execution_count": 1,
   "metadata": {},
   "outputs": [],
   "source": [
    "import numpy as np\n",
    "from datetime import datetime"
   ]
  },
  {
   "cell_type": "code",
   "execution_count": 2,
   "metadata": {
    "scrolled": true
   },
   "outputs": [
    {
     "data": {
      "text/plain": [
       "array([0.        , 0.80634187, 2.45511322, 3.46938095, 4.20187212,\n",
       "       5.12277806, 6.21201638, 7.04102857, 8.        ])"
      ]
     },
     "execution_count": 2,
     "metadata": {},
     "output_type": "execute_result"
    }
   ],
   "source": [
    "def BB(w0, wt, t, m):\n",
    "    z = np.random.randn(2**m) # z.len : 8\n",
    "    h = 2**m # h = 8\n",
    "    jmax = 1\n",
    "    w = np.zeros(2**m+1) # w.len : 9\n",
    "    w[0] = w0\n",
    "    w[-1] = wt\n",
    "    tt = np.linspace(0,t,2**m+1) # [0, 1, 2, 3, 4, 5, 6, 7 , 8]\n",
    "    for k in range(m):\n",
    "        imin = int(h/2) # imin : 4 -> 2 -> 1\n",
    "        i = imin\n",
    "        l = 0\n",
    "        r = h # r : 8 -> 4 -> 2\n",
    "        for j in range(jmax):\n",
    "            a = ((tt[r]-tt[i])*w[l]+(tt[i]-tt[l])*w[r])/(tt[r]-tt[l])\n",
    "            b = np.sqrt((tt[i]-tt[l])*(tt[r]-tt[i])/(tt[r]-tt[l]))\n",
    "            w[i] = a+b*z[i-1]\n",
    "            i = i+h # i : 4 // 2 -> 6 // 1 -> 3 -> 5 -> 7\n",
    "            l = l+h # l : 0 // 0 -> 4 // 0 -> 2 -> 4 -> 6\n",
    "            r = r+h # r : 8 // 4 -> 8 // 2 -> 4 -> 6 -> 8\n",
    "        jmax = 2*jmax # jmax : 1 -> 2 -> 4\n",
    "        h = imin # h : 8 -> 4 -> 2\n",
    "    return w\n",
    "W=BB(0,8,1,3)\n",
    "W"
   ]
  },
  {
   "cell_type": "markdown",
   "metadata": {},
   "source": [
    "### Use Brownian bridge"
   ]
  },
  {
   "cell_type": "code",
   "execution_count": 240,
   "metadata": {},
   "outputs": [],
   "source": [
    "def ELS_BB(r,q1,q2,sigma1,sigma2,rho,M,m):\n",
    "    \n",
    "    prob = np.zeros(7)\n",
    "    values = np.zeros(M)\n",
    "    for i in range(M):\n",
    "        z1 = np.random.randn(4)\n",
    "        z2 = np.random.randn(4)\n",
    "        w1_rw = np.zeros(5)\n",
    "        w2_rw = np.zeros(5)\n",
    "        s1_rw = np.zeros(5)\n",
    "        s2_rw = np.zeros(5)\n",
    "        s1_rw[0] = 100\n",
    "        s2_rw[0] = 100\n",
    "        t_rw = 1/2\n",
    "        \n",
    "        for j in range(4):\n",
    "\n",
    "            w1_rw[j+1] = w1_rw[j] + np.sqrt(t_rw)*z1[j]\n",
    "            w2_rw[j+1] = w2_rw[j] + np.sqrt(t_rw)*z2[j]\n",
    "\n",
    "            s1_rw[j+1] = s1_rw[0]*np.exp((r-q1-sigma1**2/2)*t_rw*(j+1) + sigma1*w1_rw[j+1])\n",
    "            s2_rw[j+1] = s2_rw[0]*np.exp((r-q2-sigma2**2/2)*t_rw*(j+1) + sigma2*(rho*w1_rw[j+1]+np.sqrt(1-rho**2)*w2_rw[j+1]))\n",
    "\n",
    "        # 1번 필터링 (0.5년 후 종가가 둘 다 85% 이상)\n",
    "        if (s1_rw[1]>=85) & (s2_rw[1]>=85):\n",
    "            val = 100 * (1+0.0625)\n",
    "            prob[0]+=1\n",
    "            values[i] = val * np.exp(-r * 0.5)\n",
    "\n",
    "        # 2번 필터링 (1년 후 종가가 둘 다 80% 이상)\n",
    "        elif (s1_rw[2]>=80) & (s2_rw[2]>=80):\n",
    "            val = 100 * (1+0.0625*2)\n",
    "            prob[1]+=1\n",
    "            values[i] = val * np.exp(-r)\n",
    "\n",
    "        # 3번 필터링 (1.5년 후 종가가 둘 다 75% 이상)\n",
    "        elif (s1_rw[3]>=75) & (s2_rw[3]>=75):\n",
    "            val = 100 * (1+0.0625*3)\n",
    "            prob[2]+=1\n",
    "            values[i] = val * np.exp(-r * 1.5)\n",
    "\n",
    "        # 4번 필터링 (2년 후 종가가 둘 다 70% 이상)\n",
    "        elif (s1_rw[4]>=70) & (s2_rw[4]>=70):\n",
    "            val = 100 * (1+0.0625*4)\n",
    "            prob[3]+=1\n",
    "            values[i] = val * np.exp(-r * 2)\n",
    "\n",
    "        # 7번 필터링 (위의 경우에 해당하지 않으면서 barrier hit)\n",
    "        elif (any(s1_rw <= 60) | any(s2_rw <= 60)) == True:\n",
    "            val = min(s1_rw[4], s2_rw[4])\n",
    "            prob[6]+=1\n",
    "            values[i] = val * np.exp(-r * 2)\n",
    "\n",
    "        else:\n",
    "            \n",
    "            s1_BB = np.zeros(2**m+1)\n",
    "            s2_BB = np.zeros(2**m+1)\n",
    "                \n",
    "            for k in range(4):\n",
    "                w1_BB = BB(w1_rw[k], w1_rw[k+1], t_rw, m)\n",
    "                w2_BB = BB(w2_rw[k], w2_rw[k+1], t_rw, m)\n",
    "                \n",
    "                t = np.linspace(t_rw*k, t_rw*(k+1), 2**m+1)\n",
    "\n",
    "                s1_BB = s1_rw[0]*np.exp((r-q1-sigma1**2/2)*t + sigma1*w1_BB)\n",
    "                s2_BB = s2_rw[0]*np.exp((r-q2-sigma2**2/2)*t + sigma2*(rho*w1_BB+np.sqrt(1-rho**2)*w2_BB)) \n",
    "                \n",
    "                if (any(s1_BB <= 60) | any(s2_BB <= 60)) == True:\n",
    "                    val = min(s1_rw[4], s2_rw[4])\n",
    "                    prob[5]+=1\n",
    "                    values[i] = val * np.exp(-r * 2)\n",
    "                    break\n",
    "\n",
    "                else:\n",
    "                    if k < 3:\n",
    "                        continue\n",
    "\n",
    "                    else:\n",
    "                        val = 100\n",
    "                        prob[4]+=1\n",
    "                        values[i] = val * np.exp(-r * 2)\n",
    "    \n",
    "    value = values.mean()\n",
    "    err = values.std() / sqrt(M)\n",
    "    prob = prob / M\n",
    "        \n",
    "    return value, err, prob    "
   ]
  },
  {
   "cell_type": "code",
   "execution_count": 126,
   "metadata": {},
   "outputs": [],
   "source": [
    "r=0.03\n",
    "q1=0.0\n",
    "q2=0.0\n",
    "sigma1=0.3\n",
    "sigma2=0.4\n",
    "rho=0.2\n",
    "M=10000\n",
    "m=3"
   ]
  },
  {
   "cell_type": "code",
   "execution_count": 243,
   "metadata": {},
   "outputs": [
    {
     "name": "stdout",
     "output_type": "stream",
     "text": [
      "value = 93.41, err = 0.27\n",
      "prob[1] = 55.16%\n",
      "prob[2] = 12.48%\n",
      "prob[3] =  6.58%\n",
      "prob[4] =  4.27%\n",
      "prob[5] =  0.15%\n",
      "prob[6] =  1.44%\n",
      "prob[7] = 19.92%\n",
      "Total sum of prob = 100%\n",
      "Total computing time = 1.195996 seconds\n"
     ]
    }
   ],
   "source": [
    "t1=datetime.now()\n",
    "value,err,prob=ELS_BB(r,q1,q2,sigma1,sigma2,rho,M,m)\n",
    "t2=datetime.now()\n",
    "print('value = {:.2f}, err = {:.2f}'.format(value,err))\n",
    "for i in range(7):\n",
    "    print('prob[{:d}] = {:{width}.2%}'.format(i+1,prob[i],width=6))\n",
    "print('Total sum of prob = {:.0%}'.format(sum(prob)))\n",
    "print('Total computing time = {:f} seconds'.format((t2-t1).total_seconds()))"
   ]
  },
  {
   "cell_type": "code",
   "execution_count": 242,
   "metadata": {},
   "outputs": [
    {
     "name": "stdout",
     "output_type": "stream",
     "text": [
      "       prob[1] prob[2] prob[3] prob[4] prob[5] prob[6] prob[7]   computing time\n",
      "n=  1   54.52%  12.95%   6.54%   4.15%   1.37%   0.00%  20.47%   0.666257 seconds\n",
      "n=  2   55.55%  12.18%   6.11%   4.57%   0.98%   0.58%  20.03%   0.730012 seconds\n",
      "n=  4   54.04%  12.58%   6.46%   4.25%   0.76%   0.79%  21.12%   0.633317 seconds\n",
      "n=  8   55.05%  12.19%   6.29%   3.82%   0.38%   1.22%  21.05%   0.630837 seconds\n",
      "n= 16   55.03%  12.45%   6.32%   3.87%   0.25%   1.19%  20.89%   0.644284 seconds\n",
      "n= 32   54.78%  12.34%   6.26%   4.39%   0.14%   1.24%  20.85%   0.695443 seconds\n",
      "n= 64   54.70%  12.31%   6.37%   4.03%   0.20%   1.48%  20.91%   0.928889 seconds\n"
     ]
    }
   ],
   "source": [
    "import numpy as np\n",
    "from datetime import datetime\n",
    "r=0.03\n",
    "q1=0.0\n",
    "q2=0.0\n",
    "sigma1=0.3\n",
    "sigma2=0.4\n",
    "rho=0.2\n",
    "M=10000\n",
    "m=7\n",
    "p=np.zeros(m)\n",
    "print('      ',end=' ')\n",
    "for i in range(7):\n",
    "    print('prob[{:d}]'.format(i+1),end=' ')\n",
    "print('  computing time')\n",
    "for i in range(m):\n",
    "    t1=datetime.now()\n",
    "    value,err,prob=ELS_BB(r,q1,q2,sigma1,sigma2,rho,M,i)\n",
    "    t2=datetime.now()\n",
    "    print('n={:3d}'.format(2**i),end='   ')\n",
    "    for j in range(len(prob)):\n",
    "        print('{:{width}.2%} '.format(prob[j],width=6),end=' ')\n",
    "    print(' {:f} seconds'.format((t2-t1).total_seconds()))"
   ]
  },
  {
   "cell_type": "code",
   "execution_count": null,
   "metadata": {},
   "outputs": [],
   "source": []
  },
  {
   "cell_type": "code",
   "execution_count": 3,
   "metadata": {},
   "outputs": [
    {
     "name": "stdout",
     "output_type": "stream",
     "text": [
      "value = 93.28, err = 0.27\n",
      "prob[1] = 55.55%\n",
      "prob[2] = 12.69%\n",
      "prob[3] =  6.00%\n",
      "prob[4] =  4.05%\n",
      "prob[5] =  0.33%\n",
      "prob[6] =  1.16%\n",
      "prob[7] = 20.22%\n",
      "Total sum of prob = 100%\n",
      "Total computing time = 0.569032 seconds\n"
     ]
    }
   ],
   "source": [
    "import numpy as np\n",
    "def ELS_BB(r,q1,q2,sigma1,sigma2,rho,M,m):\n",
    "\n",
    "    return value,err,prob\n",
    "from datetime import datetime\n",
    "r=0.03\n",
    "q1=0.0\n",
    "q2=0.0\n",
    "sigma1=0.3\n",
    "sigma2=0.4\n",
    "rho=0.2\n",
    "M=10000\n",
    "m=3\n",
    "t1=datetime.now()\n",
    "value,err,prob=ELS_BB(r,q1,q2,sigma1,sigma2,rho,M,m)\n",
    "t2=datetime.now()\n",
    "print('value = {:.2f}, err = {:.2f}'.format(value,err))\n",
    "for i in range(7):\n",
    "    print('prob[{:d}] = {:{width}.2%}'.format(i+1,prob[i],width=6))\n",
    "print('Total sum of prob = {:.0%}'.format(sum(prob)))\n",
    "print('Total computing time = {:f} seconds'.format((t2-t1).total_seconds()))"
   ]
  },
  {
   "cell_type": "code",
   "execution_count": 11,
   "metadata": {},
   "outputs": [
    {
     "name": "stdout",
     "output_type": "stream",
     "text": [
      "       prob[1] prob[2] prob[3] prob[4] prob[5] prob[6] prob[7]   computing time\n",
      "n=  1   54.60%  12.69%   6.56%   4.32%   1.49%   0.00%  20.34%   0.504029 seconds\n",
      "n=  2   54.71%  12.48%   6.62%   4.20%   0.85%   0.77%  20.37%   0.527030 seconds\n",
      "n=  4   55.30%  12.67%   6.53%   4.37%   0.43%   0.85%  19.85%   0.513029 seconds\n",
      "n=  8   54.87%  11.64%   6.56%   4.08%   0.44%   1.18%  21.23%   0.570033 seconds\n",
      "n= 16   54.83%  12.52%   6.56%   4.14%   0.31%   1.27%  20.37%   0.621035 seconds\n",
      "n= 32   55.15%  12.13%   6.60%   4.25%   0.18%   1.31%  20.38%   0.758043 seconds\n",
      "n= 64   54.80%  12.62%   6.47%   4.26%   0.23%   1.50%  20.12%   1.099063 seconds\n"
     ]
    }
   ],
   "source": [
    "import numpy as np\n",
    "from datetime import datetime\n",
    "r=0.03\n",
    "q1=0.0\n",
    "q2=0.0\n",
    "sigma1=0.3\n",
    "sigma2=0.4\n",
    "rho=0.2\n",
    "M=10000\n",
    "m=7\n",
    "p=np.zeros(m)\n",
    "print('      ',end=' ')\n",
    "for i in range(7):\n",
    "    print('prob[{:d}]'.format(i+1),end=' ')\n",
    "print('  computing time')\n",
    "for i in range(m):\n",
    "    t1=datetime.now()\n",
    "    value,err,prob=ELS_BB(r,q1,q2,sigma1,sigma2,rho,M,i)\n",
    "    t2=datetime.now()\n",
    "    print('n={:3d}'.format(2**i),end='   ')\n",
    "    for j in range(len(prob)):\n",
    "        print('{:{width}.2%} '.format(prob[j],width=6),end=' ')\n",
    "    print(' {:f} seconds'.format((t2-t1).total_seconds()))"
   ]
  }
 ],
 "metadata": {
  "kernelspec": {
   "display_name": "Python 3",
   "language": "python",
   "name": "python3"
  },
  "language_info": {
   "codemirror_mode": {
    "name": "ipython",
    "version": 3
   },
   "file_extension": ".py",
   "mimetype": "text/x-python",
   "name": "python",
   "nbconvert_exporter": "python",
   "pygments_lexer": "ipython3",
   "version": "3.6.8"
  }
 },
 "nbformat": 4,
 "nbformat_minor": 2
}
