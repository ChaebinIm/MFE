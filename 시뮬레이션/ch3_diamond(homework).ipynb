{
 "cells": [
  {
   "cell_type": "code",
   "execution_count": 2,
   "metadata": {},
   "outputs": [
    {
     "name": "stdout",
     "output_type": "stream",
     "text": [
      "value = 7299.90, err = 23.04\n"
     ]
    }
   ],
   "source": [
    "# by Kiseop\n",
    "import numpy as np\n",
    "Y0=122\n",
    "B0=25.884\n",
    "rD=0.03\n",
    "rY=0.01\n",
    "rB=0.13\n",
    "sigmaY=0.1\n",
    "sigmaB=0.1\n",
    "rho=0.2\n",
    "T=1\n",
    "M=10000\n",
    "Y=np.zeros(M)\n",
    "for i in range(M):\n",
    "    x = np.random.randn(2)\n",
    "    e1 = x[0]\n",
    "    e2 = rho*x[0]+x[1]*np.sqrt(1-rho**2)\n",
    "    \n",
    "    YT = Y0/np.exp((rD-rY-(sigmaY**2)/2)*T+sigmaY*e1*np.sqrt(T))\n",
    "    BT = B0/np.exp((rD-rB-(sigmaB**2)/2)*T+sigmaB*e2*np.sqrt(T))\n",
    "    \n",
    "    alpha = max(0,(YT-Y0)/YT) + min(1,5*((B0-BT)/BT))\n",
    "    payment = 5300*(1-0.03-alpha)\n",
    "    \n",
    "    Y[i] = payment * np.exp(-rD*T)\n",
    "      \n",
    "value=np.mean(Y)\n",
    "err=np.std(Y)/np.sqrt(M)\n",
    "print('value = {:.2f}, err = {:.2f}'.format(value,err))\n"
   ]
  },
  {
   "cell_type": "code",
   "execution_count": 1,
   "metadata": {},
   "outputs": [
    {
     "ename": "IndentationError",
     "evalue": "expected an indented block (<ipython-input-1-e4b92f0519cd>, line 15)",
     "output_type": "error",
     "traceback": [
      "\u001b[0;36m  File \u001b[0;32m\"<ipython-input-1-e4b92f0519cd>\"\u001b[0;36m, line \u001b[0;32m15\u001b[0m\n\u001b[0;31m    value=np.mean(Y)\u001b[0m\n\u001b[0m        ^\u001b[0m\n\u001b[0;31mIndentationError\u001b[0m\u001b[0;31m:\u001b[0m expected an indented block\n"
     ]
    }
   ],
   "source": [
    "import numpy as np\n",
    "Y0=122\n",
    "B0=25.884\n",
    "rD=0.03 # Domestic interest rate?\n",
    "rY=0.01 # Yen interest rate?\n",
    "rB=0.13 # Bat interest rate?\n",
    "sigmaY=0.1\n",
    "sigmaB=0.1\n",
    "rho=0.2\n",
    "T=1\n",
    "M=10000\n",
    "Y=np.zeros(M)\n",
    "for i in range(M):  # nubmer of sim : 10000\n",
    "\n",
    "value=np.mean(Y)\n",
    "err=np.std(Y)/np.sqrt(M) # MC Sim의 standard error\n",
    "print('value = {:.2f}, err = {:.2f}'.format(value,err))    "
   ]
  },
  {
   "cell_type": "code",
   "execution_count": 5,
   "metadata": {},
   "outputs": [
    {
     "name": "stdout",
     "output_type": "stream",
     "text": [
      "sigmaB    0.01    0.05    0.10    0.20    0.30    0.50  \n",
      "sigmaY\n",
      "  0.01    7436    7431    7409    7659    8301    9782  \n",
      "  0.05    7376    7372    7368    7583    8016    9715  \n",
      "  0.10    7279    7294    7318    7415    8102    9779  \n",
      "  0.20    7074    7075    7132    7299    7843    9509  \n",
      "  0.30    6875    6878    6868    7059    7672    9271  \n",
      "  0.50    6462    6463    6475    6634    7270    8899  \n"
     ]
    }
   ],
   "source": [
    "import numpy as np\n",
    "def diamond(sigmaY,sigmaB):\n",
    "    Y0=122\n",
    "    B0=25.884\n",
    "    rD=0.03\n",
    "    rY=0.01\n",
    "    rB=0.13\n",
    "    rho=0.2\n",
    "    T=1\n",
    "    M=10000\n",
    "    Y=np.zeros(M)\n",
    "    for i in range(M):\n",
    "\n",
    "    value=np.mean(Y)\n",
    "    err=np.std(Y)/np.sqrt(M)\n",
    "    return value,err\n",
    "sigmaY=[0.01,0.05,0.1,0.2,0.3,0.5]\n",
    "sigmaB=[0.01,0.05,0.1,0.2,0.3,0.5]\n",
    "n=len(sigmaY)\n",
    "value=np.zeros((n,n))\n",
    "print('sigmaB ',end=' ')\n",
    "for i in range(n):\n",
    "    print('{:{width}.2f} '.format(sigmaB[i],width=6),end=' ')\n",
    "print()\n",
    "print('sigmaY')\n",
    "for i in range(n):\n",
    "    print('{:{width}.2f} '.format(sigmaY[i],width=6),end=' ')\n",
    "    for j in range(n):\n",
    "        value[i,j],err=diamond(sigmaY[i],sigmaB[j])\n",
    "        print('{:{width}.0f} '.format(value[i,j],width=6),end=' ')\n",
    "    print()"
   ]
  }
 ],
 "metadata": {
  "kernelspec": {
   "display_name": "Python 3",
   "language": "python",
   "name": "python3"
  },
  "language_info": {
   "codemirror_mode": {
    "name": "ipython",
    "version": 3
   },
   "file_extension": ".py",
   "mimetype": "text/x-python",
   "name": "python",
   "nbconvert_exporter": "python",
   "pygments_lexer": "ipython3",
   "version": "3.6.8"
  }
 },
 "nbformat": 4,
 "nbformat_minor": 2
}
